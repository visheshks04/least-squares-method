{
 "metadata": {
  "language_info": {
   "codemirror_mode": {
    "name": "ipython",
    "version": 3
   },
   "file_extension": ".py",
   "mimetype": "text/x-python",
   "name": "python",
   "nbconvert_exporter": "python",
   "pygments_lexer": "ipython3",
   "version": "3.8.10"
  },
  "orig_nbformat": 4,
  "kernelspec": {
   "name": "python3",
   "display_name": "Python 3.8.10 64-bit"
  },
  "interpreter": {
   "hash": "916dbcbb3f70747c44a77c7bcd40155683ae19c65e1c03b4aa3499c5328201f1"
  }
 },
 "nbformat": 4,
 "nbformat_minor": 2,
 "cells": [
  {
   "cell_type": "code",
   "execution_count": 2,
   "metadata": {},
   "outputs": [],
   "source": [
    "import numpy as np\n",
    "import pandas as pd\n",
    "import matplotlib.pyplot as plt\n",
    "import seaborn as sns\n",
    "%matplotlib inline"
   ]
  },
  {
   "cell_type": "code",
   "execution_count": 3,
   "metadata": {},
   "outputs": [],
   "source": [
    "def predict(hypothesis, theta, X):\n",
    "    return hypothesis(theta, X)"
   ]
  },
  {
   "cell_type": "code",
   "execution_count": 4,
   "metadata": {},
   "outputs": [],
   "source": [
    "def hypothesis(theta, X):\n",
    "    '''\n",
    "    Returns a vertical vector of shape (m,1)\n",
    "    Here theta is a vertical vector of shape (n+1,1) and X is a matrix of shape (m, n+1)\n",
    "    (m, n+1) @ (n+1,1) -> (m,1)\n",
    "    '''\n",
    "    return X@theta"
   ]
  },
  {
   "cell_type": "code",
   "execution_count": 5,
   "metadata": {},
   "outputs": [],
   "source": [
    "def cost(hypothesis, theta, X, y):\n",
    "    '''\n",
    "    Returns a single number that is the cost.\n",
    "    Here theta is a vertical vector of shape (n+1,1), X is a matrix of shape (m, n+1) and y is a vertical vector of (m,1)\n",
    "    '''\n",
    "    m = len(y)\n",
    "    diff = hypothesis(theta, X) - y\n",
    "    J = np.sum(diff.T @ diff)/(2*m) #vectorised calculation\n",
    "    return J"
   ]
  },
  {
   "cell_type": "code",
   "execution_count": 6,
   "metadata": {},
   "outputs": [],
   "source": [
    "def gradient(hypothesis, theta, X, y):\n",
    "    '''\n",
    "    Returns a vertical vector of (n+1,1) which represents the gradient of the cost function.\n",
    "    Here theta is a vertical vector of shape (n+1,1), X is a matrix of shape (m, n+1) and y is a vertical vector of (m,1)\n",
    "    '''\n",
    "    m = len(y)\n",
    "    grad = (X.T @ (hypothesis(theta, X) - y))/m\n",
    "    return grad"
   ]
  },
  {
   "cell_type": "code",
   "execution_count": 7,
   "metadata": {},
   "outputs": [],
   "source": [
    "def update_coeff(gradient, hypothesis, theta, X, y, learning_rate):\n",
    "    J_prev = 1\n",
    "    J = 0\n",
    "    iteration = 0\n",
    "\n",
    "    while abs(J_prev - J) > 0:\n",
    "        J_prev = J\n",
    "        J = cost(hypothesis, theta, X, y)\n",
    "        theta = theta - learning_rate * gradient(hypothesis, theta, X, y)\n",
    "        print('Cost for iteration {}: {}'.format(iteration, J))\n",
    "        iteration += 1\n",
    "\n",
    "    return theta"
   ]
  },
  {
   "cell_type": "code",
   "execution_count": 8,
   "metadata": {},
   "outputs": [],
   "source": [
    "def prep(df):\n",
    "    dat = np.matrix(df)\n",
    "    X = dat[:,:-1]\n",
    "    y = dat[:,-1]\n",
    "\n",
    "    m, n = np.shape(X)\n",
    "\n",
    "    ones = np.matrix(np.ones(m)).T\n",
    "    X = np.concatenate([ones,X], axis = 1)\n",
    "    theta = np.matrix(np.zeros(n+1)).T\n",
    "    return theta, X, y"
   ]
  },
  {
   "cell_type": "code",
   "execution_count": 9,
   "metadata": {},
   "outputs": [],
   "source": [
    "number_of_examples = 200\n",
    "points = np.matrix([np.array([i for i in range(number_of_examples)]), np.array([0.4*i+3+50*np.random.normal(0,1) for i in range(number_of_examples)])]).T\n",
    "df = pd.DataFrame(points, columns = ['X', 'y'])"
   ]
  },
  {
   "cell_type": "code",
   "execution_count": 10,
   "metadata": {},
   "outputs": [
    {
     "output_type": "execute_result",
     "data": {
      "text/plain": [
       "         X           y\n",
       "0      0.0   10.841444\n",
       "1      1.0  -74.112882\n",
       "2      2.0  -30.496505\n",
       "3      3.0   73.718081\n",
       "4      4.0    6.479844\n",
       "..     ...         ...\n",
       "195  195.0  118.781196\n",
       "196  196.0  104.112413\n",
       "197  197.0    6.310845\n",
       "198  198.0   12.771264\n",
       "199  199.0   86.046939\n",
       "\n",
       "[200 rows x 2 columns]"
      ],
      "text/html": "<div>\n<style scoped>\n    .dataframe tbody tr th:only-of-type {\n        vertical-align: middle;\n    }\n\n    .dataframe tbody tr th {\n        vertical-align: top;\n    }\n\n    .dataframe thead th {\n        text-align: right;\n    }\n</style>\n<table border=\"1\" class=\"dataframe\">\n  <thead>\n    <tr style=\"text-align: right;\">\n      <th></th>\n      <th>X</th>\n      <th>y</th>\n    </tr>\n  </thead>\n  <tbody>\n    <tr>\n      <th>0</th>\n      <td>0.0</td>\n      <td>10.841444</td>\n    </tr>\n    <tr>\n      <th>1</th>\n      <td>1.0</td>\n      <td>-74.112882</td>\n    </tr>\n    <tr>\n      <th>2</th>\n      <td>2.0</td>\n      <td>-30.496505</td>\n    </tr>\n    <tr>\n      <th>3</th>\n      <td>3.0</td>\n      <td>73.718081</td>\n    </tr>\n    <tr>\n      <th>4</th>\n      <td>4.0</td>\n      <td>6.479844</td>\n    </tr>\n    <tr>\n      <th>...</th>\n      <td>...</td>\n      <td>...</td>\n    </tr>\n    <tr>\n      <th>195</th>\n      <td>195.0</td>\n      <td>118.781196</td>\n    </tr>\n    <tr>\n      <th>196</th>\n      <td>196.0</td>\n      <td>104.112413</td>\n    </tr>\n    <tr>\n      <th>197</th>\n      <td>197.0</td>\n      <td>6.310845</td>\n    </tr>\n    <tr>\n      <th>198</th>\n      <td>198.0</td>\n      <td>12.771264</td>\n    </tr>\n    <tr>\n      <th>199</th>\n      <td>199.0</td>\n      <td>86.046939</td>\n    </tr>\n  </tbody>\n</table>\n<p>200 rows × 2 columns</p>\n</div>"
     },
     "metadata": {},
     "execution_count": 10
    }
   ],
   "source": [
    "df"
   ]
  },
  {
   "cell_type": "code",
   "execution_count": 11,
   "metadata": {},
   "outputs": [
    {
     "output_type": "execute_result",
     "data": {
      "text/plain": [
       "[<matplotlib.lines.Line2D at 0x7fd513a8da30>]"
      ]
     },
     "metadata": {},
     "execution_count": 11
    },
    {
     "output_type": "display_data",
     "data": {
      "text/plain": "<Figure size 432x288 with 1 Axes>",
      "image/svg+xml": "<?xml version=\"1.0\" encoding=\"utf-8\" standalone=\"no\"?>\n<!DOCTYPE svg PUBLIC \"-//W3C//DTD SVG 1.1//EN\"\n  \"http://www.w3.org/Graphics/SVG/1.1/DTD/svg11.dtd\">\n<!-- Created with matplotlib (https://matplotlib.org/) -->\n<svg height=\"252.088803pt\" version=\"1.1\" viewBox=\"0 0 377.304688 252.088803\" width=\"377.304688pt\" xmlns=\"http://www.w3.org/2000/svg\" xmlns:xlink=\"http://www.w3.org/1999/xlink\">\n <metadata>\n  <rdf:RDF xmlns:cc=\"http://creativecommons.org/ns#\" xmlns:dc=\"http://purl.org/dc/elements/1.1/\" xmlns:rdf=\"http://www.w3.org/1999/02/22-rdf-syntax-ns#\">\n   <cc:Work>\n    <dc:type rdf:resource=\"http://purl.org/dc/dcmitype/StillImage\"/>\n    <dc:date>2021-07-20T09:40:43.675874</dc:date>\n    <dc:format>image/svg+xml</dc:format>\n    <dc:creator>\n     <cc:Agent>\n      <dc:title>Matplotlib v3.3.3, https://matplotlib.org/</dc:title>\n     </cc:Agent>\n    </dc:creator>\n   </cc:Work>\n  </rdf:RDF>\n </metadata>\n <defs>\n  <style type=\"text/css\">*{stroke-linecap:butt;stroke-linejoin:round;}</style>\n </defs>\n <g id=\"figure_1\">\n  <g id=\"patch_1\">\n   <path d=\"M 0 252.088803 \nL 377.304688 252.088803 \nL 377.304688 0 \nL 0 0 \nz\n\" style=\"fill:none;\"/>\n  </g>\n  <g id=\"axes_1\">\n   <g id=\"patch_2\">\n    <path d=\"M 35.304688 228.210678 \nL 370.104688 228.210678 \nL 370.104688 10.770678 \nL 35.304688 10.770678 \nz\n\" style=\"fill:#ffffff;\"/>\n   </g>\n   <g id=\"matplotlib.axis_1\">\n    <g id=\"xtick_1\">\n     <g id=\"line2d_1\">\n      <defs>\n       <path d=\"M 0 0 \nL 0 3.5 \n\" id=\"m876535becb\" style=\"stroke:#000000;stroke-width:0.8;\"/>\n      </defs>\n      <g>\n       <use style=\"stroke:#000000;stroke-width:0.8;\" x=\"50.522869\" xlink:href=\"#m876535becb\" y=\"228.210678\"/>\n      </g>\n     </g>\n     <g id=\"text_1\">\n      <!-- 0 -->\n      <g transform=\"translate(47.341619 242.809116)scale(0.1 -0.1)\">\n       <defs>\n        <path d=\"M 31.78125 66.40625 \nQ 24.171875 66.40625 20.328125 58.90625 \nQ 16.5 51.421875 16.5 36.375 \nQ 16.5 21.390625 20.328125 13.890625 \nQ 24.171875 6.390625 31.78125 6.390625 \nQ 39.453125 6.390625 43.28125 13.890625 \nQ 47.125 21.390625 47.125 36.375 \nQ 47.125 51.421875 43.28125 58.90625 \nQ 39.453125 66.40625 31.78125 66.40625 \nz\nM 31.78125 74.21875 \nQ 44.046875 74.21875 50.515625 64.515625 \nQ 56.984375 54.828125 56.984375 36.375 \nQ 56.984375 17.96875 50.515625 8.265625 \nQ 44.046875 -1.421875 31.78125 -1.421875 \nQ 19.53125 -1.421875 13.0625 8.265625 \nQ 6.59375 17.96875 6.59375 36.375 \nQ 6.59375 54.828125 13.0625 64.515625 \nQ 19.53125 74.21875 31.78125 74.21875 \nz\n\" id=\"DejaVuSans-48\"/>\n       </defs>\n       <use xlink:href=\"#DejaVuSans-48\"/>\n      </g>\n     </g>\n    </g>\n    <g id=\"xtick_2\">\n     <g id=\"line2d_2\">\n      <g>\n       <use style=\"stroke:#000000;stroke-width:0.8;\" x=\"88.759507\" xlink:href=\"#m876535becb\" y=\"228.210678\"/>\n      </g>\n     </g>\n     <g id=\"text_2\">\n      <!-- 25 -->\n      <g transform=\"translate(82.397007 242.809116)scale(0.1 -0.1)\">\n       <defs>\n        <path d=\"M 19.1875 8.296875 \nL 53.609375 8.296875 \nL 53.609375 0 \nL 7.328125 0 \nL 7.328125 8.296875 \nQ 12.9375 14.109375 22.625 23.890625 \nQ 32.328125 33.6875 34.8125 36.53125 \nQ 39.546875 41.84375 41.421875 45.53125 \nQ 43.3125 49.21875 43.3125 52.78125 \nQ 43.3125 58.59375 39.234375 62.25 \nQ 35.15625 65.921875 28.609375 65.921875 \nQ 23.96875 65.921875 18.8125 64.3125 \nQ 13.671875 62.703125 7.8125 59.421875 \nL 7.8125 69.390625 \nQ 13.765625 71.78125 18.9375 73 \nQ 24.125 74.21875 28.421875 74.21875 \nQ 39.75 74.21875 46.484375 68.546875 \nQ 53.21875 62.890625 53.21875 53.421875 \nQ 53.21875 48.921875 51.53125 44.890625 \nQ 49.859375 40.875 45.40625 35.40625 \nQ 44.1875 33.984375 37.640625 27.21875 \nQ 31.109375 20.453125 19.1875 8.296875 \nz\n\" id=\"DejaVuSans-50\"/>\n        <path d=\"M 10.796875 72.90625 \nL 49.515625 72.90625 \nL 49.515625 64.59375 \nL 19.828125 64.59375 \nL 19.828125 46.734375 \nQ 21.96875 47.46875 24.109375 47.828125 \nQ 26.265625 48.1875 28.421875 48.1875 \nQ 40.625 48.1875 47.75 41.5 \nQ 54.890625 34.8125 54.890625 23.390625 \nQ 54.890625 11.625 47.5625 5.09375 \nQ 40.234375 -1.421875 26.90625 -1.421875 \nQ 22.3125 -1.421875 17.546875 -0.640625 \nQ 12.796875 0.140625 7.71875 1.703125 \nL 7.71875 11.625 \nQ 12.109375 9.234375 16.796875 8.0625 \nQ 21.484375 6.890625 26.703125 6.890625 \nQ 35.15625 6.890625 40.078125 11.328125 \nQ 45.015625 15.765625 45.015625 23.390625 \nQ 45.015625 31 40.078125 35.4375 \nQ 35.15625 39.890625 26.703125 39.890625 \nQ 22.75 39.890625 18.8125 39.015625 \nQ 14.890625 38.140625 10.796875 36.28125 \nz\n\" id=\"DejaVuSans-53\"/>\n       </defs>\n       <use xlink:href=\"#DejaVuSans-50\"/>\n       <use x=\"63.623047\" xlink:href=\"#DejaVuSans-53\"/>\n      </g>\n     </g>\n    </g>\n    <g id=\"xtick_3\">\n     <g id=\"line2d_3\">\n      <g>\n       <use style=\"stroke:#000000;stroke-width:0.8;\" x=\"126.996145\" xlink:href=\"#m876535becb\" y=\"228.210678\"/>\n      </g>\n     </g>\n     <g id=\"text_3\">\n      <!-- 50 -->\n      <g transform=\"translate(120.633645 242.809116)scale(0.1 -0.1)\">\n       <use xlink:href=\"#DejaVuSans-53\"/>\n       <use x=\"63.623047\" xlink:href=\"#DejaVuSans-48\"/>\n      </g>\n     </g>\n    </g>\n    <g id=\"xtick_4\">\n     <g id=\"line2d_4\">\n      <g>\n       <use style=\"stroke:#000000;stroke-width:0.8;\" x=\"165.232783\" xlink:href=\"#m876535becb\" y=\"228.210678\"/>\n      </g>\n     </g>\n     <g id=\"text_4\">\n      <!-- 75 -->\n      <g transform=\"translate(158.870283 242.809116)scale(0.1 -0.1)\">\n       <defs>\n        <path d=\"M 8.203125 72.90625 \nL 55.078125 72.90625 \nL 55.078125 68.703125 \nL 28.609375 0 \nL 18.3125 0 \nL 43.21875 64.59375 \nL 8.203125 64.59375 \nz\n\" id=\"DejaVuSans-55\"/>\n       </defs>\n       <use xlink:href=\"#DejaVuSans-55\"/>\n       <use x=\"63.623047\" xlink:href=\"#DejaVuSans-53\"/>\n      </g>\n     </g>\n    </g>\n    <g id=\"xtick_5\">\n     <g id=\"line2d_5\">\n      <g>\n       <use style=\"stroke:#000000;stroke-width:0.8;\" x=\"203.46942\" xlink:href=\"#m876535becb\" y=\"228.210678\"/>\n      </g>\n     </g>\n     <g id=\"text_5\">\n      <!-- 100 -->\n      <g transform=\"translate(193.92567 242.809116)scale(0.1 -0.1)\">\n       <defs>\n        <path d=\"M 12.40625 8.296875 \nL 28.515625 8.296875 \nL 28.515625 63.921875 \nL 10.984375 60.40625 \nL 10.984375 69.390625 \nL 28.421875 72.90625 \nL 38.28125 72.90625 \nL 38.28125 8.296875 \nL 54.390625 8.296875 \nL 54.390625 0 \nL 12.40625 0 \nz\n\" id=\"DejaVuSans-49\"/>\n       </defs>\n       <use xlink:href=\"#DejaVuSans-49\"/>\n       <use x=\"63.623047\" xlink:href=\"#DejaVuSans-48\"/>\n       <use x=\"127.246094\" xlink:href=\"#DejaVuSans-48\"/>\n      </g>\n     </g>\n    </g>\n    <g id=\"xtick_6\">\n     <g id=\"line2d_6\">\n      <g>\n       <use style=\"stroke:#000000;stroke-width:0.8;\" x=\"241.706058\" xlink:href=\"#m876535becb\" y=\"228.210678\"/>\n      </g>\n     </g>\n     <g id=\"text_6\">\n      <!-- 125 -->\n      <g transform=\"translate(232.162308 242.809116)scale(0.1 -0.1)\">\n       <use xlink:href=\"#DejaVuSans-49\"/>\n       <use x=\"63.623047\" xlink:href=\"#DejaVuSans-50\"/>\n       <use x=\"127.246094\" xlink:href=\"#DejaVuSans-53\"/>\n      </g>\n     </g>\n    </g>\n    <g id=\"xtick_7\">\n     <g id=\"line2d_7\">\n      <g>\n       <use style=\"stroke:#000000;stroke-width:0.8;\" x=\"279.942696\" xlink:href=\"#m876535becb\" y=\"228.210678\"/>\n      </g>\n     </g>\n     <g id=\"text_7\">\n      <!-- 150 -->\n      <g transform=\"translate(270.398946 242.809116)scale(0.1 -0.1)\">\n       <use xlink:href=\"#DejaVuSans-49\"/>\n       <use x=\"63.623047\" xlink:href=\"#DejaVuSans-53\"/>\n       <use x=\"127.246094\" xlink:href=\"#DejaVuSans-48\"/>\n      </g>\n     </g>\n    </g>\n    <g id=\"xtick_8\">\n     <g id=\"line2d_8\">\n      <g>\n       <use style=\"stroke:#000000;stroke-width:0.8;\" x=\"318.179333\" xlink:href=\"#m876535becb\" y=\"228.210678\"/>\n      </g>\n     </g>\n     <g id=\"text_8\">\n      <!-- 175 -->\n      <g transform=\"translate(308.635583 242.809116)scale(0.1 -0.1)\">\n       <use xlink:href=\"#DejaVuSans-49\"/>\n       <use x=\"63.623047\" xlink:href=\"#DejaVuSans-55\"/>\n       <use x=\"127.246094\" xlink:href=\"#DejaVuSans-53\"/>\n      </g>\n     </g>\n    </g>\n    <g id=\"xtick_9\">\n     <g id=\"line2d_9\">\n      <g>\n       <use style=\"stroke:#000000;stroke-width:0.8;\" x=\"356.415971\" xlink:href=\"#m876535becb\" y=\"228.210678\"/>\n      </g>\n     </g>\n     <g id=\"text_9\">\n      <!-- 200 -->\n      <g transform=\"translate(346.872221 242.809116)scale(0.1 -0.1)\">\n       <use xlink:href=\"#DejaVuSans-50\"/>\n       <use x=\"63.623047\" xlink:href=\"#DejaVuSans-48\"/>\n       <use x=\"127.246094\" xlink:href=\"#DejaVuSans-48\"/>\n      </g>\n     </g>\n    </g>\n   </g>\n   <g id=\"matplotlib.axis_2\">\n    <g id=\"ytick_1\">\n     <g id=\"line2d_10\">\n      <defs>\n       <path d=\"M 0 0 \nL -3.5 0 \n\" id=\"m4f6b927bd9\" style=\"stroke:#000000;stroke-width:0.8;\"/>\n      </defs>\n      <g>\n       <use style=\"stroke:#000000;stroke-width:0.8;\" x=\"35.304688\" xlink:href=\"#m4f6b927bd9\" y=\"192.365201\"/>\n      </g>\n     </g>\n     <g id=\"text_10\">\n      <!-- −50 -->\n      <g transform=\"translate(7.2 196.164419)scale(0.1 -0.1)\">\n       <defs>\n        <path d=\"M 10.59375 35.5 \nL 73.1875 35.5 \nL 73.1875 27.203125 \nL 10.59375 27.203125 \nz\n\" id=\"DejaVuSans-8722\"/>\n       </defs>\n       <use xlink:href=\"#DejaVuSans-8722\"/>\n       <use x=\"83.789062\" xlink:href=\"#DejaVuSans-53\"/>\n       <use x=\"147.412109\" xlink:href=\"#DejaVuSans-48\"/>\n      </g>\n     </g>\n    </g>\n    <g id=\"ytick_2\">\n     <g id=\"line2d_11\">\n      <g>\n       <use style=\"stroke:#000000;stroke-width:0.8;\" x=\"35.304688\" xlink:href=\"#m4f6b927bd9\" y=\"156.092004\"/>\n      </g>\n     </g>\n     <g id=\"text_11\">\n      <!-- 0 -->\n      <g transform=\"translate(21.942188 159.891223)scale(0.1 -0.1)\">\n       <use xlink:href=\"#DejaVuSans-48\"/>\n      </g>\n     </g>\n    </g>\n    <g id=\"ytick_3\">\n     <g id=\"line2d_12\">\n      <g>\n       <use style=\"stroke:#000000;stroke-width:0.8;\" x=\"35.304688\" xlink:href=\"#m4f6b927bd9\" y=\"119.818808\"/>\n      </g>\n     </g>\n     <g id=\"text_12\">\n      <!-- 50 -->\n      <g transform=\"translate(15.579688 123.618027)scale(0.1 -0.1)\">\n       <use xlink:href=\"#DejaVuSans-53\"/>\n       <use x=\"63.623047\" xlink:href=\"#DejaVuSans-48\"/>\n      </g>\n     </g>\n    </g>\n    <g id=\"ytick_4\">\n     <g id=\"line2d_13\">\n      <g>\n       <use style=\"stroke:#000000;stroke-width:0.8;\" x=\"35.304688\" xlink:href=\"#m4f6b927bd9\" y=\"83.545612\"/>\n      </g>\n     </g>\n     <g id=\"text_13\">\n      <!-- 100 -->\n      <g transform=\"translate(9.217188 87.34483)scale(0.1 -0.1)\">\n       <use xlink:href=\"#DejaVuSans-49\"/>\n       <use x=\"63.623047\" xlink:href=\"#DejaVuSans-48\"/>\n       <use x=\"127.246094\" xlink:href=\"#DejaVuSans-48\"/>\n      </g>\n     </g>\n    </g>\n    <g id=\"ytick_5\">\n     <g id=\"line2d_14\">\n      <g>\n       <use style=\"stroke:#000000;stroke-width:0.8;\" x=\"35.304688\" xlink:href=\"#m4f6b927bd9\" y=\"47.272415\"/>\n      </g>\n     </g>\n     <g id=\"text_14\">\n      <!-- 150 -->\n      <g transform=\"translate(9.217188 51.071634)scale(0.1 -0.1)\">\n       <use xlink:href=\"#DejaVuSans-49\"/>\n       <use x=\"63.623047\" xlink:href=\"#DejaVuSans-53\"/>\n       <use x=\"127.246094\" xlink:href=\"#DejaVuSans-48\"/>\n      </g>\n     </g>\n    </g>\n    <g id=\"ytick_6\">\n     <g id=\"line2d_15\">\n      <g>\n       <use style=\"stroke:#000000;stroke-width:0.8;\" x=\"35.304688\" xlink:href=\"#m4f6b927bd9\" y=\"10.999219\"/>\n      </g>\n     </g>\n     <g id=\"text_15\">\n      <!-- 200 -->\n      <g transform=\"translate(9.217188 14.798438)scale(0.1 -0.1)\">\n       <use xlink:href=\"#DejaVuSans-50\"/>\n       <use x=\"63.623047\" xlink:href=\"#DejaVuSans-48\"/>\n       <use x=\"127.246094\" xlink:href=\"#DejaVuSans-48\"/>\n      </g>\n     </g>\n    </g>\n   </g>\n   <g id=\"line2d_16\">\n    <defs>\n     <path d=\"M 0 3 \nC 0.795609 3 1.55874 2.683901 2.12132 2.12132 \nC 2.683901 1.55874 3 0.795609 3 0 \nC 3 -0.795609 2.683901 -1.55874 2.12132 -2.12132 \nC 1.55874 -2.683901 0.795609 -3 0 -3 \nC -0.795609 -3 -1.55874 -2.683901 -2.12132 -2.12132 \nC -2.683901 -1.55874 -3 -0.795609 -3 0 \nC -3 0.795609 -2.683901 1.55874 -2.12132 2.12132 \nC -1.55874 2.683901 -0.795609 3 0 3 \nz\n\" id=\"m5f3079f62c\" style=\"stroke:#008000;\"/>\n    </defs>\n    <g clip-path=\"url(#p97558bbdef)\">\n     <use style=\"fill:#008000;stroke:#008000;\" x=\"50.522869\" xlink:href=\"#m5f3079f62c\" y=\"148.226928\"/>\n     <use style=\"fill:#008000;stroke:#008000;\" x=\"52.052335\" xlink:href=\"#m5f3079f62c\" y=\"209.858227\"/>\n     <use style=\"fill:#008000;stroke:#008000;\" x=\"53.5818\" xlink:href=\"#m5f3079f62c\" y=\"178.216119\"/>\n     <use style=\"fill:#008000;stroke:#008000;\" x=\"55.111266\" xlink:href=\"#m5f3079f62c\" y=\"102.612196\"/>\n     <use style=\"fill:#008000;stroke:#008000;\" x=\"56.640731\" xlink:href=\"#m5f3079f62c\" y=\"151.391111\"/>\n     <use style=\"fill:#008000;stroke:#008000;\" x=\"58.170197\" xlink:href=\"#m5f3079f62c\" y=\"156.225373\"/>\n     <use style=\"fill:#008000;stroke:#008000;\" x=\"59.699662\" xlink:href=\"#m5f3079f62c\" y=\"143.615248\"/>\n     <use style=\"fill:#008000;stroke:#008000;\" x=\"61.229128\" xlink:href=\"#m5f3079f62c\" y=\"94.64923\"/>\n     <use style=\"fill:#008000;stroke:#008000;\" x=\"62.758593\" xlink:href=\"#m5f3079f62c\" y=\"163.449848\"/>\n     <use style=\"fill:#008000;stroke:#008000;\" x=\"64.288059\" xlink:href=\"#m5f3079f62c\" y=\"166.143076\"/>\n     <use style=\"fill:#008000;stroke:#008000;\" x=\"65.817524\" xlink:href=\"#m5f3079f62c\" y=\"143.211219\"/>\n     <use style=\"fill:#008000;stroke:#008000;\" x=\"67.34699\" xlink:href=\"#m5f3079f62c\" y=\"166.235696\"/>\n     <use style=\"fill:#008000;stroke:#008000;\" x=\"68.876455\" xlink:href=\"#m5f3079f62c\" y=\"144.557651\"/>\n     <use style=\"fill:#008000;stroke:#008000;\" x=\"70.405921\" xlink:href=\"#m5f3079f62c\" y=\"169.911039\"/>\n     <use style=\"fill:#008000;stroke:#008000;\" x=\"71.935386\" xlink:href=\"#m5f3079f62c\" y=\"128.619873\"/>\n     <use style=\"fill:#008000;stroke:#008000;\" x=\"73.464852\" xlink:href=\"#m5f3079f62c\" y=\"176.8039\"/>\n     <use style=\"fill:#008000;stroke:#008000;\" x=\"74.994317\" xlink:href=\"#m5f3079f62c\" y=\"144.467337\"/>\n     <use style=\"fill:#008000;stroke:#008000;\" x=\"76.523783\" xlink:href=\"#m5f3079f62c\" y=\"170.274518\"/>\n     <use style=\"fill:#008000;stroke:#008000;\" x=\"78.053248\" xlink:href=\"#m5f3079f62c\" y=\"179.051269\"/>\n     <use style=\"fill:#008000;stroke:#008000;\" x=\"79.582714\" xlink:href=\"#m5f3079f62c\" y=\"123.231111\"/>\n     <use style=\"fill:#008000;stroke:#008000;\" x=\"81.11218\" xlink:href=\"#m5f3079f62c\" y=\"124.125483\"/>\n     <use style=\"fill:#008000;stroke:#008000;\" x=\"82.641645\" xlink:href=\"#m5f3079f62c\" y=\"148.977489\"/>\n     <use style=\"fill:#008000;stroke:#008000;\" x=\"84.171111\" xlink:href=\"#m5f3079f62c\" y=\"158.862376\"/>\n     <use style=\"fill:#008000;stroke:#008000;\" x=\"85.700576\" xlink:href=\"#m5f3079f62c\" y=\"147.356174\"/>\n     <use style=\"fill:#008000;stroke:#008000;\" x=\"87.230042\" xlink:href=\"#m5f3079f62c\" y=\"93.077174\"/>\n     <use style=\"fill:#008000;stroke:#008000;\" x=\"88.759507\" xlink:href=\"#m5f3079f62c\" y=\"118.12871\"/>\n     <use style=\"fill:#008000;stroke:#008000;\" x=\"90.288973\" xlink:href=\"#m5f3079f62c\" y=\"159.160637\"/>\n     <use style=\"fill:#008000;stroke:#008000;\" x=\"91.818438\" xlink:href=\"#m5f3079f62c\" y=\"159.774358\"/>\n     <use style=\"fill:#008000;stroke:#008000;\" x=\"93.347904\" xlink:href=\"#m5f3079f62c\" y=\"124.697865\"/>\n     <use style=\"fill:#008000;stroke:#008000;\" x=\"94.877369\" xlink:href=\"#m5f3079f62c\" y=\"164.554099\"/>\n     <use style=\"fill:#008000;stroke:#008000;\" x=\"96.406835\" xlink:href=\"#m5f3079f62c\" y=\"218.040761\"/>\n     <use style=\"fill:#008000;stroke:#008000;\" x=\"97.9363\" xlink:href=\"#m5f3079f62c\" y=\"115.300584\"/>\n     <use style=\"fill:#008000;stroke:#008000;\" x=\"99.465766\" xlink:href=\"#m5f3079f62c\" y=\"198.232623\"/>\n     <use style=\"fill:#008000;stroke:#008000;\" x=\"100.995231\" xlink:href=\"#m5f3079f62c\" y=\"106.39068\"/>\n     <use style=\"fill:#008000;stroke:#008000;\" x=\"102.524697\" xlink:href=\"#m5f3079f62c\" y=\"156.010055\"/>\n     <use style=\"fill:#008000;stroke:#008000;\" x=\"104.054162\" xlink:href=\"#m5f3079f62c\" y=\"89.498303\"/>\n     <use style=\"fill:#008000;stroke:#008000;\" x=\"105.583628\" xlink:href=\"#m5f3079f62c\" y=\"180.557833\"/>\n     <use style=\"fill:#008000;stroke:#008000;\" x=\"107.113093\" xlink:href=\"#m5f3079f62c\" y=\"174.519078\"/>\n     <use style=\"fill:#008000;stroke:#008000;\" x=\"108.642559\" xlink:href=\"#m5f3079f62c\" y=\"111.156973\"/>\n     <use style=\"fill:#008000;stroke:#008000;\" x=\"110.172024\" xlink:href=\"#m5f3079f62c\" y=\"150.535413\"/>\n     <use style=\"fill:#008000;stroke:#008000;\" x=\"111.70149\" xlink:href=\"#m5f3079f62c\" y=\"193.850699\"/>\n     <use style=\"fill:#008000;stroke:#008000;\" x=\"113.230955\" xlink:href=\"#m5f3079f62c\" y=\"125.739318\"/>\n     <use style=\"fill:#008000;stroke:#008000;\" x=\"114.760421\" xlink:href=\"#m5f3079f62c\" y=\"153.802634\"/>\n     <use style=\"fill:#008000;stroke:#008000;\" x=\"116.289886\" xlink:href=\"#m5f3079f62c\" y=\"194.844293\"/>\n     <use style=\"fill:#008000;stroke:#008000;\" x=\"117.819352\" xlink:href=\"#m5f3079f62c\" y=\"146.234062\"/>\n     <use style=\"fill:#008000;stroke:#008000;\" x=\"119.348817\" xlink:href=\"#m5f3079f62c\" y=\"139.577828\"/>\n     <use style=\"fill:#008000;stroke:#008000;\" x=\"120.878283\" xlink:href=\"#m5f3079f62c\" y=\"150.456032\"/>\n     <use style=\"fill:#008000;stroke:#008000;\" x=\"122.407748\" xlink:href=\"#m5f3079f62c\" y=\"155.248418\"/>\n     <use style=\"fill:#008000;stroke:#008000;\" x=\"123.937214\" xlink:href=\"#m5f3079f62c\" y=\"46.20554\"/>\n     <use style=\"fill:#008000;stroke:#008000;\" x=\"125.466679\" xlink:href=\"#m5f3079f62c\" y=\"173.855451\"/>\n     <use style=\"fill:#008000;stroke:#008000;\" x=\"126.996145\" xlink:href=\"#m5f3079f62c\" y=\"172.429225\"/>\n     <use style=\"fill:#008000;stroke:#008000;\" x=\"128.52561\" xlink:href=\"#m5f3079f62c\" y=\"178.527685\"/>\n     <use style=\"fill:#008000;stroke:#008000;\" x=\"130.055076\" xlink:href=\"#m5f3079f62c\" y=\"116.839542\"/>\n     <use style=\"fill:#008000;stroke:#008000;\" x=\"131.584541\" xlink:href=\"#m5f3079f62c\" y=\"106.694275\"/>\n     <use style=\"fill:#008000;stroke:#008000;\" x=\"133.114007\" xlink:href=\"#m5f3079f62c\" y=\"128.511789\"/>\n     <use style=\"fill:#008000;stroke:#008000;\" x=\"134.643472\" xlink:href=\"#m5f3079f62c\" y=\"152.666737\"/>\n     <use style=\"fill:#008000;stroke:#008000;\" x=\"136.172938\" xlink:href=\"#m5f3079f62c\" y=\"145.960896\"/>\n     <use style=\"fill:#008000;stroke:#008000;\" x=\"137.702403\" xlink:href=\"#m5f3079f62c\" y=\"91.873238\"/>\n     <use style=\"fill:#008000;stroke:#008000;\" x=\"139.231869\" xlink:href=\"#m5f3079f62c\" y=\"152.790819\"/>\n     <use style=\"fill:#008000;stroke:#008000;\" x=\"140.761334\" xlink:href=\"#m5f3079f62c\" y=\"86.616122\"/>\n     <use style=\"fill:#008000;stroke:#008000;\" x=\"142.2908\" xlink:href=\"#m5f3079f62c\" y=\"156.585758\"/>\n     <use style=\"fill:#008000;stroke:#008000;\" x=\"143.820265\" xlink:href=\"#m5f3079f62c\" y=\"103.43639\"/>\n     <use style=\"fill:#008000;stroke:#008000;\" x=\"145.349731\" xlink:href=\"#m5f3079f62c\" y=\"166.330625\"/>\n     <use style=\"fill:#008000;stroke:#008000;\" x=\"146.879196\" xlink:href=\"#m5f3079f62c\" y=\"138.464572\"/>\n     <use style=\"fill:#008000;stroke:#008000;\" x=\"148.408662\" xlink:href=\"#m5f3079f62c\" y=\"145.866787\"/>\n     <use style=\"fill:#008000;stroke:#008000;\" x=\"149.938127\" xlink:href=\"#m5f3079f62c\" y=\"166.680292\"/>\n     <use style=\"fill:#008000;stroke:#008000;\" x=\"151.467593\" xlink:href=\"#m5f3079f62c\" y=\"152.394335\"/>\n     <use style=\"fill:#008000;stroke:#008000;\" x=\"152.997058\" xlink:href=\"#m5f3079f62c\" y=\"154.092323\"/>\n     <use style=\"fill:#008000;stroke:#008000;\" x=\"154.526524\" xlink:href=\"#m5f3079f62c\" y=\"152.125404\"/>\n     <use style=\"fill:#008000;stroke:#008000;\" x=\"156.055989\" xlink:href=\"#m5f3079f62c\" y=\"107.973445\"/>\n     <use style=\"fill:#008000;stroke:#008000;\" x=\"157.585455\" xlink:href=\"#m5f3079f62c\" y=\"135.340014\"/>\n     <use style=\"fill:#008000;stroke:#008000;\" x=\"159.11492\" xlink:href=\"#m5f3079f62c\" y=\"134.05691\"/>\n     <use style=\"fill:#008000;stroke:#008000;\" x=\"160.644386\" xlink:href=\"#m5f3079f62c\" y=\"82.824835\"/>\n     <use style=\"fill:#008000;stroke:#008000;\" x=\"162.173852\" xlink:href=\"#m5f3079f62c\" y=\"76.467614\"/>\n     <use style=\"fill:#008000;stroke:#008000;\" x=\"163.703317\" xlink:href=\"#m5f3079f62c\" y=\"129.601851\"/>\n     <use style=\"fill:#008000;stroke:#008000;\" x=\"165.232783\" xlink:href=\"#m5f3079f62c\" y=\"102.768491\"/>\n     <use style=\"fill:#008000;stroke:#008000;\" x=\"166.762248\" xlink:href=\"#m5f3079f62c\" y=\"40.277069\"/>\n     <use style=\"fill:#008000;stroke:#008000;\" x=\"168.291714\" xlink:href=\"#m5f3079f62c\" y=\"164.808367\"/>\n     <use style=\"fill:#008000;stroke:#008000;\" x=\"169.821179\" xlink:href=\"#m5f3079f62c\" y=\"113.803567\"/>\n     <use style=\"fill:#008000;stroke:#008000;\" x=\"171.350645\" xlink:href=\"#m5f3079f62c\" y=\"52.566551\"/>\n     <use style=\"fill:#008000;stroke:#008000;\" x=\"172.88011\" xlink:href=\"#m5f3079f62c\" y=\"181.542459\"/>\n     <use style=\"fill:#008000;stroke:#008000;\" x=\"174.409576\" xlink:href=\"#m5f3079f62c\" y=\"160.552154\"/>\n     <use style=\"fill:#008000;stroke:#008000;\" x=\"175.939041\" xlink:href=\"#m5f3079f62c\" y=\"122.740542\"/>\n     <use style=\"fill:#008000;stroke:#008000;\" x=\"177.468507\" xlink:href=\"#m5f3079f62c\" y=\"136.075113\"/>\n     <use style=\"fill:#008000;stroke:#008000;\" x=\"178.997972\" xlink:href=\"#m5f3079f62c\" y=\"146.491245\"/>\n     <use style=\"fill:#008000;stroke:#008000;\" x=\"180.527438\" xlink:href=\"#m5f3079f62c\" y=\"158.383275\"/>\n     <use style=\"fill:#008000;stroke:#008000;\" x=\"182.056903\" xlink:href=\"#m5f3079f62c\" y=\"102.724584\"/>\n     <use style=\"fill:#008000;stroke:#008000;\" x=\"183.586369\" xlink:href=\"#m5f3079f62c\" y=\"190.402645\"/>\n     <use style=\"fill:#008000;stroke:#008000;\" x=\"185.115834\" xlink:href=\"#m5f3079f62c\" y=\"173.447702\"/>\n     <use style=\"fill:#008000;stroke:#008000;\" x=\"186.6453\" xlink:href=\"#m5f3079f62c\" y=\"133.953188\"/>\n     <use style=\"fill:#008000;stroke:#008000;\" x=\"188.174765\" xlink:href=\"#m5f3079f62c\" y=\"63.967425\"/>\n     <use style=\"fill:#008000;stroke:#008000;\" x=\"189.704231\" xlink:href=\"#m5f3079f62c\" y=\"146.78223\"/>\n     <use style=\"fill:#008000;stroke:#008000;\" x=\"191.233696\" xlink:href=\"#m5f3079f62c\" y=\"27.263481\"/>\n     <use style=\"fill:#008000;stroke:#008000;\" x=\"192.763162\" xlink:href=\"#m5f3079f62c\" y=\"95.66988\"/>\n     <use style=\"fill:#008000;stroke:#008000;\" x=\"194.292627\" xlink:href=\"#m5f3079f62c\" y=\"133.203077\"/>\n     <use style=\"fill:#008000;stroke:#008000;\" x=\"195.822093\" xlink:href=\"#m5f3079f62c\" y=\"100.515467\"/>\n     <use style=\"fill:#008000;stroke:#008000;\" x=\"197.351558\" xlink:href=\"#m5f3079f62c\" y=\"126.690517\"/>\n     <use style=\"fill:#008000;stroke:#008000;\" x=\"198.881024\" xlink:href=\"#m5f3079f62c\" y=\"124.760248\"/>\n     <use style=\"fill:#008000;stroke:#008000;\" x=\"200.410489\" xlink:href=\"#m5f3079f62c\" y=\"78.394357\"/>\n     <use style=\"fill:#008000;stroke:#008000;\" x=\"201.939955\" xlink:href=\"#m5f3079f62c\" y=\"147.790182\"/>\n     <use style=\"fill:#008000;stroke:#008000;\" x=\"203.46942\" xlink:href=\"#m5f3079f62c\" y=\"208.333643\"/>\n     <use style=\"fill:#008000;stroke:#008000;\" x=\"204.998886\" xlink:href=\"#m5f3079f62c\" y=\"105.263899\"/>\n     <use style=\"fill:#008000;stroke:#008000;\" x=\"206.528351\" xlink:href=\"#m5f3079f62c\" y=\"135.517287\"/>\n     <use style=\"fill:#008000;stroke:#008000;\" x=\"208.057817\" xlink:href=\"#m5f3079f62c\" y=\"150.328123\"/>\n     <use style=\"fill:#008000;stroke:#008000;\" x=\"209.587282\" xlink:href=\"#m5f3079f62c\" y=\"101.308172\"/>\n     <use style=\"fill:#008000;stroke:#008000;\" x=\"211.116748\" xlink:href=\"#m5f3079f62c\" y=\"61.19429\"/>\n     <use style=\"fill:#008000;stroke:#008000;\" x=\"212.646213\" xlink:href=\"#m5f3079f62c\" y=\"158.672755\"/>\n     <use style=\"fill:#008000;stroke:#008000;\" x=\"214.175679\" xlink:href=\"#m5f3079f62c\" y=\"93.43682\"/>\n     <use style=\"fill:#008000;stroke:#008000;\" x=\"215.705144\" xlink:href=\"#m5f3079f62c\" y=\"104.749846\"/>\n     <use style=\"fill:#008000;stroke:#008000;\" x=\"217.23461\" xlink:href=\"#m5f3079f62c\" y=\"156.210586\"/>\n     <use style=\"fill:#008000;stroke:#008000;\" x=\"218.764075\" xlink:href=\"#m5f3079f62c\" y=\"83.49655\"/>\n     <use style=\"fill:#008000;stroke:#008000;\" x=\"220.293541\" xlink:href=\"#m5f3079f62c\" y=\"177.347731\"/>\n     <use style=\"fill:#008000;stroke:#008000;\" x=\"221.823006\" xlink:href=\"#m5f3079f62c\" y=\"133.687064\"/>\n     <use style=\"fill:#008000;stroke:#008000;\" x=\"223.352472\" xlink:href=\"#m5f3079f62c\" y=\"170.967147\"/>\n     <use style=\"fill:#008000;stroke:#008000;\" x=\"224.881937\" xlink:href=\"#m5f3079f62c\" y=\"96.169231\"/>\n     <use style=\"fill:#008000;stroke:#008000;\" x=\"226.411403\" xlink:href=\"#m5f3079f62c\" y=\"96.291722\"/>\n     <use style=\"fill:#008000;stroke:#008000;\" x=\"227.940868\" xlink:href=\"#m5f3079f62c\" y=\"144.7196\"/>\n     <use style=\"fill:#008000;stroke:#008000;\" x=\"229.470334\" xlink:href=\"#m5f3079f62c\" y=\"72.37181\"/>\n     <use style=\"fill:#008000;stroke:#008000;\" x=\"230.999799\" xlink:href=\"#m5f3079f62c\" y=\"72.914483\"/>\n     <use style=\"fill:#008000;stroke:#008000;\" x=\"232.529265\" xlink:href=\"#m5f3079f62c\" y=\"88.711884\"/>\n     <use style=\"fill:#008000;stroke:#008000;\" x=\"234.05873\" xlink:href=\"#m5f3079f62c\" y=\"134.9279\"/>\n     <use style=\"fill:#008000;stroke:#008000;\" x=\"235.588196\" xlink:href=\"#m5f3079f62c\" y=\"113.507466\"/>\n     <use style=\"fill:#008000;stroke:#008000;\" x=\"237.117661\" xlink:href=\"#m5f3079f62c\" y=\"114.630071\"/>\n     <use style=\"fill:#008000;stroke:#008000;\" x=\"238.647127\" xlink:href=\"#m5f3079f62c\" y=\"112.953218\"/>\n     <use style=\"fill:#008000;stroke:#008000;\" x=\"240.176592\" xlink:href=\"#m5f3079f62c\" y=\"110.551271\"/>\n     <use style=\"fill:#008000;stroke:#008000;\" x=\"241.706058\" xlink:href=\"#m5f3079f62c\" y=\"95.250409\"/>\n     <use style=\"fill:#008000;stroke:#008000;\" x=\"243.235523\" xlink:href=\"#m5f3079f62c\" y=\"65.451565\"/>\n     <use style=\"fill:#008000;stroke:#008000;\" x=\"244.764989\" xlink:href=\"#m5f3079f62c\" y=\"161.935348\"/>\n     <use style=\"fill:#008000;stroke:#008000;\" x=\"246.294455\" xlink:href=\"#m5f3079f62c\" y=\"151.05937\"/>\n     <use style=\"fill:#008000;stroke:#008000;\" x=\"247.82392\" xlink:href=\"#m5f3079f62c\" y=\"111.722584\"/>\n     <use style=\"fill:#008000;stroke:#008000;\" x=\"249.353386\" xlink:href=\"#m5f3079f62c\" y=\"205.497513\"/>\n     <use style=\"fill:#008000;stroke:#008000;\" x=\"250.882851\" xlink:href=\"#m5f3079f62c\" y=\"133.368967\"/>\n     <use style=\"fill:#008000;stroke:#008000;\" x=\"252.412317\" xlink:href=\"#m5f3079f62c\" y=\"192.017308\"/>\n     <use style=\"fill:#008000;stroke:#008000;\" x=\"253.941782\" xlink:href=\"#m5f3079f62c\" y=\"167.267571\"/>\n     <use style=\"fill:#008000;stroke:#008000;\" x=\"255.471248\" xlink:href=\"#m5f3079f62c\" y=\"87.199535\"/>\n     <use style=\"fill:#008000;stroke:#008000;\" x=\"257.000713\" xlink:href=\"#m5f3079f62c\" y=\"87.637191\"/>\n     <use style=\"fill:#008000;stroke:#008000;\" x=\"258.530179\" xlink:href=\"#m5f3079f62c\" y=\"140.120601\"/>\n     <use style=\"fill:#008000;stroke:#008000;\" x=\"260.059644\" xlink:href=\"#m5f3079f62c\" y=\"100.934191\"/>\n     <use style=\"fill:#008000;stroke:#008000;\" x=\"261.58911\" xlink:href=\"#m5f3079f62c\" y=\"165.547635\"/>\n     <use style=\"fill:#008000;stroke:#008000;\" x=\"263.118575\" xlink:href=\"#m5f3079f62c\" y=\"141.003479\"/>\n     <use style=\"fill:#008000;stroke:#008000;\" x=\"264.648041\" xlink:href=\"#m5f3079f62c\" y=\"157.508198\"/>\n     <use style=\"fill:#008000;stroke:#008000;\" x=\"266.177506\" xlink:href=\"#m5f3079f62c\" y=\"121.249036\"/>\n     <use style=\"fill:#008000;stroke:#008000;\" x=\"267.706972\" xlink:href=\"#m5f3079f62c\" y=\"89.64289\"/>\n     <use style=\"fill:#008000;stroke:#008000;\" x=\"269.236437\" xlink:href=\"#m5f3079f62c\" y=\"218.327042\"/>\n     <use style=\"fill:#008000;stroke:#008000;\" x=\"270.765903\" xlink:href=\"#m5f3079f62c\" y=\"85.36435\"/>\n     <use style=\"fill:#008000;stroke:#008000;\" x=\"272.295368\" xlink:href=\"#m5f3079f62c\" y=\"121.72831\"/>\n     <use style=\"fill:#008000;stroke:#008000;\" x=\"273.824834\" xlink:href=\"#m5f3079f62c\" y=\"20.654315\"/>\n     <use style=\"fill:#008000;stroke:#008000;\" x=\"275.354299\" xlink:href=\"#m5f3079f62c\" y=\"125.288114\"/>\n     <use style=\"fill:#008000;stroke:#008000;\" x=\"276.883765\" xlink:href=\"#m5f3079f62c\" y=\"152.88898\"/>\n     <use style=\"fill:#008000;stroke:#008000;\" x=\"278.41323\" xlink:href=\"#m5f3079f62c\" y=\"79.079517\"/>\n     <use style=\"fill:#008000;stroke:#008000;\" x=\"279.942696\" xlink:href=\"#m5f3079f62c\" y=\"71.911474\"/>\n     <use style=\"fill:#008000;stroke:#008000;\" x=\"281.472161\" xlink:href=\"#m5f3079f62c\" y=\"168.125392\"/>\n     <use style=\"fill:#008000;stroke:#008000;\" x=\"283.001627\" xlink:href=\"#m5f3079f62c\" y=\"89.427765\"/>\n     <use style=\"fill:#008000;stroke:#008000;\" x=\"284.531092\" xlink:href=\"#m5f3079f62c\" y=\"32.875007\"/>\n     <use style=\"fill:#008000;stroke:#008000;\" x=\"286.060558\" xlink:href=\"#m5f3079f62c\" y=\"122.236713\"/>\n     <use style=\"fill:#008000;stroke:#008000;\" x=\"287.590023\" xlink:href=\"#m5f3079f62c\" y=\"158.83694\"/>\n     <use style=\"fill:#008000;stroke:#008000;\" x=\"289.119489\" xlink:href=\"#m5f3079f62c\" y=\"120.592187\"/>\n     <use style=\"fill:#008000;stroke:#008000;\" x=\"290.648954\" xlink:href=\"#m5f3079f62c\" y=\"104.751705\"/>\n     <use style=\"fill:#008000;stroke:#008000;\" x=\"292.17842\" xlink:href=\"#m5f3079f62c\" y=\"136.559836\"/>\n     <use style=\"fill:#008000;stroke:#008000;\" x=\"293.707885\" xlink:href=\"#m5f3079f62c\" y=\"77.485514\"/>\n     <use style=\"fill:#008000;stroke:#008000;\" x=\"295.237351\" xlink:href=\"#m5f3079f62c\" y=\"120.706149\"/>\n     <use style=\"fill:#008000;stroke:#008000;\" x=\"296.766816\" xlink:href=\"#m5f3079f62c\" y=\"106.843476\"/>\n     <use style=\"fill:#008000;stroke:#008000;\" x=\"298.296282\" xlink:href=\"#m5f3079f62c\" y=\"64.552465\"/>\n     <use style=\"fill:#008000;stroke:#008000;\" x=\"299.825747\" xlink:href=\"#m5f3079f62c\" y=\"105.5628\"/>\n     <use style=\"fill:#008000;stroke:#008000;\" x=\"301.355213\" xlink:href=\"#m5f3079f62c\" y=\"96.738323\"/>\n     <use style=\"fill:#008000;stroke:#008000;\" x=\"302.884678\" xlink:href=\"#m5f3079f62c\" y=\"143.457941\"/>\n     <use style=\"fill:#008000;stroke:#008000;\" x=\"304.414144\" xlink:href=\"#m5f3079f62c\" y=\"122.382652\"/>\n     <use style=\"fill:#008000;stroke:#008000;\" x=\"305.943609\" xlink:href=\"#m5f3079f62c\" y=\"59.45712\"/>\n     <use style=\"fill:#008000;stroke:#008000;\" x=\"307.473075\" xlink:href=\"#m5f3079f62c\" y=\"101.372405\"/>\n     <use style=\"fill:#008000;stroke:#008000;\" x=\"309.00254\" xlink:href=\"#m5f3079f62c\" y=\"122.255481\"/>\n     <use style=\"fill:#008000;stroke:#008000;\" x=\"310.532006\" xlink:href=\"#m5f3079f62c\" y=\"105.002174\"/>\n     <use style=\"fill:#008000;stroke:#008000;\" x=\"312.061471\" xlink:href=\"#m5f3079f62c\" y=\"65.098224\"/>\n     <use style=\"fill:#008000;stroke:#008000;\" x=\"313.590937\" xlink:href=\"#m5f3079f62c\" y=\"142.57782\"/>\n     <use style=\"fill:#008000;stroke:#008000;\" x=\"315.120402\" xlink:href=\"#m5f3079f62c\" y=\"169.261504\"/>\n     <use style=\"fill:#008000;stroke:#008000;\" x=\"316.649868\" xlink:href=\"#m5f3079f62c\" y=\"123.644222\"/>\n     <use style=\"fill:#008000;stroke:#008000;\" x=\"318.179333\" xlink:href=\"#m5f3079f62c\" y=\"109.683353\"/>\n     <use style=\"fill:#008000;stroke:#008000;\" x=\"319.708799\" xlink:href=\"#m5f3079f62c\" y=\"83.827657\"/>\n     <use style=\"fill:#008000;stroke:#008000;\" x=\"321.238264\" xlink:href=\"#m5f3079f62c\" y=\"25.943705\"/>\n     <use style=\"fill:#008000;stroke:#008000;\" x=\"322.76773\" xlink:href=\"#m5f3079f62c\" y=\"79.357576\"/>\n     <use style=\"fill:#008000;stroke:#008000;\" x=\"324.297195\" xlink:href=\"#m5f3079f62c\" y=\"76.409079\"/>\n     <use style=\"fill:#008000;stroke:#008000;\" x=\"325.826661\" xlink:href=\"#m5f3079f62c\" y=\"120.783538\"/>\n     <use style=\"fill:#008000;stroke:#008000;\" x=\"327.356127\" xlink:href=\"#m5f3079f62c\" y=\"99.236458\"/>\n     <use style=\"fill:#008000;stroke:#008000;\" x=\"328.885592\" xlink:href=\"#m5f3079f62c\" y=\"95.30207\"/>\n     <use style=\"fill:#008000;stroke:#008000;\" x=\"330.415058\" xlink:href=\"#m5f3079f62c\" y=\"94.903342\"/>\n     <use style=\"fill:#008000;stroke:#008000;\" x=\"331.944523\" xlink:href=\"#m5f3079f62c\" y=\"69.267008\"/>\n     <use style=\"fill:#008000;stroke:#008000;\" x=\"333.473989\" xlink:href=\"#m5f3079f62c\" y=\"103.4182\"/>\n     <use style=\"fill:#008000;stroke:#008000;\" x=\"335.003454\" xlink:href=\"#m5f3079f62c\" y=\"91.639428\"/>\n     <use style=\"fill:#008000;stroke:#008000;\" x=\"336.53292\" xlink:href=\"#m5f3079f62c\" y=\"43.84045\"/>\n     <use style=\"fill:#008000;stroke:#008000;\" x=\"338.062385\" xlink:href=\"#m5f3079f62c\" y=\"72.149871\"/>\n     <use style=\"fill:#008000;stroke:#008000;\" x=\"339.591851\" xlink:href=\"#m5f3079f62c\" y=\"178.917298\"/>\n     <use style=\"fill:#008000;stroke:#008000;\" x=\"341.121316\" xlink:href=\"#m5f3079f62c\" y=\"148.412327\"/>\n     <use style=\"fill:#008000;stroke:#008000;\" x=\"342.650782\" xlink:href=\"#m5f3079f62c\" y=\"73.663661\"/>\n     <use style=\"fill:#008000;stroke:#008000;\" x=\"344.180247\" xlink:href=\"#m5f3079f62c\" y=\"133.29237\"/>\n     <use style=\"fill:#008000;stroke:#008000;\" x=\"345.709713\" xlink:href=\"#m5f3079f62c\" y=\"67.412494\"/>\n     <use style=\"fill:#008000;stroke:#008000;\" x=\"347.239178\" xlink:href=\"#m5f3079f62c\" y=\"106.243774\"/>\n     <use style=\"fill:#008000;stroke:#008000;\" x=\"348.768644\" xlink:href=\"#m5f3079f62c\" y=\"69.920532\"/>\n     <use style=\"fill:#008000;stroke:#008000;\" x=\"350.298109\" xlink:href=\"#m5f3079f62c\" y=\"80.562204\"/>\n     <use style=\"fill:#008000;stroke:#008000;\" x=\"351.827575\" xlink:href=\"#m5f3079f62c\" y=\"151.513714\"/>\n     <use style=\"fill:#008000;stroke:#008000;\" x=\"353.35704\" xlink:href=\"#m5f3079f62c\" y=\"146.826913\"/>\n     <use style=\"fill:#008000;stroke:#008000;\" x=\"354.886506\" xlink:href=\"#m5f3079f62c\" y=\"93.668054\"/>\n    </g>\n   </g>\n   <g id=\"patch_3\">\n    <path d=\"M 35.304688 228.210678 \nL 35.304688 10.770678 \n\" style=\"fill:none;stroke:#000000;stroke-linecap:square;stroke-linejoin:miter;stroke-width:0.8;\"/>\n   </g>\n   <g id=\"patch_4\">\n    <path d=\"M 370.104688 228.210678 \nL 370.104688 10.770678 \n\" style=\"fill:none;stroke:#000000;stroke-linecap:square;stroke-linejoin:miter;stroke-width:0.8;\"/>\n   </g>\n   <g id=\"patch_5\">\n    <path d=\"M 35.304688 228.210678 \nL 370.104688 228.210678 \n\" style=\"fill:none;stroke:#000000;stroke-linecap:square;stroke-linejoin:miter;stroke-width:0.8;\"/>\n   </g>\n   <g id=\"patch_6\">\n    <path d=\"M 35.304688 10.770678 \nL 370.104688 10.770678 \n\" style=\"fill:none;stroke:#000000;stroke-linecap:square;stroke-linejoin:miter;stroke-width:0.8;\"/>\n   </g>\n  </g>\n </g>\n <defs>\n  <clipPath id=\"p97558bbdef\">\n   <rect height=\"217.44\" width=\"334.8\" x=\"35.304688\" y=\"10.770678\"/>\n  </clipPath>\n </defs>\n</svg>\n",
      "image/png": "[encoded data removed]"
     },
     "metadata": {
      "needs_background": "light"
     }
    }
   ],
   "source": [
    "plt.plot(df['X'],df['y'], 'go')"
   ]
  },
  {
   "source": [
    "## Train Test split"
   ],
   "cell_type": "markdown",
   "metadata": {}
  },
  {
   "cell_type": "code",
   "execution_count": 12,
   "metadata": {},
   "outputs": [],
   "source": [
    "def train_test_split(X, y, test_size = 0.2):\n",
    "    df = np.matrix(df)\n",
    "    m = len(df)\n",
    "    test_lim = int(test_size*m)\n",
    "    X_test, X_train, y_test, y_train = X[:test_lim,0], X[test_lim:,0], y[:test_lim:,1], y[test_lim:,1]\n",
    "    return X_train, X_test, y_train, y_test"
   ]
  },
  {
   "cell_type": "code",
   "execution_count": 21,
   "metadata": {},
   "outputs": [],
   "source": [
    "theta, X, y = prep(df)"
   ]
  },
  {
   "cell_type": "code",
   "execution_count": 20,
   "metadata": {},
   "outputs": [
    {
     "output_type": "stream",
     "name": "stdout",
     "text": [
      "Cost for iteration 0: 2393.9551911559606\n",
      "Cost for iteration 1: 170021.1301755811\n",
      "Cost for iteration 2: 25259924.9991181\n",
      "Cost for iteration 3: 3780637136.4403605\n",
      "Cost for iteration 4: 565873583901.0143\n",
      "Cost for iteration 5: 84698162569367.7\n",
      "Cost for iteration 6: 1.2677352261285022e+16\n",
      "Cost for iteration 7: 1.8975058665228275e+18\n",
      "Cost for iteration 8: 2.840126581072017e+20\n",
      "Cost for iteration 9: 4.2510113611892715e+22\n",
      "Cost for iteration 10: 6.362778938584931e+24\n",
      "Cost for iteration 11: 9.523605650861835e+26\n",
      "Cost for iteration 12: 1.4254630793962294e+29\n",
      "Cost for iteration 13: 2.1335879132478566e+31\n",
      "Cost for iteration 14: 3.193486698712306e+33\n",
      "Cost for iteration 15: 4.7799095746319474e+35\n",
      "Cost for iteration 16: 7.154417004733681e+37\n",
      "Cost for iteration 17: 1.0708504392902412e+40\n",
      "Cost for iteration 18: 1.6028149639158303e+42\n",
      "Cost for iteration 19: 2.3990425873619172e+44\n",
      "Cost for iteration 20: 3.590810833157661e+46\n",
      "Cost for iteration 21: 5.374611733633736e+48\n",
      "Cost for iteration 22: 8.044548328910847e+50\n",
      "Cost for iteration 23: 1.2040824718780037e+53\n",
      "Cost for iteration 24: 1.8022324433970228e+55\n",
      "Cost for iteration 25: 2.6975243439652793e+57\n",
      "Cost for iteration 26: 4.037568856861543e+59\n",
      "Cost for iteration 27: 6.043304969746764e+61\n",
      "Cost for iteration 28: 9.04542714988013e+63\n",
      "Cost for iteration 29: 1.3538908384300383e+66\n",
      "Cost for iteration 30: 2.0264608536580642e+68\n",
      "Cost for iteration 31: 3.033142314612667e+70\n",
      "Cost for iteration 32: 4.5399111875694995e+72\n",
      "Cost for iteration 33: 6.795195033125478e+74\n",
      "Cost for iteration 34: 1.017083234241271e+77\n",
      "Cost for iteration 35: 1.522337917207479e+79\n",
      "Cost for iteration 36: 2.2785870970495678e+81\n",
      "Cost for iteration 37: 3.410516876807956e+83\n",
      "Cost for iteration 38: 5.1047534597440366e+85\n",
      "Cost for iteration 39: 7.6406330260291685e+87\n",
      "Cost for iteration 40: 1.1436257107973014e+90\n",
      "Cost for iteration 41: 1.711742681452059e+92\n",
      "Cost for iteration 42: 2.562082139148421e+94\n",
      "Cost for iteration 43: 3.8348432617073836e+96\n",
      "Cost for iteration 44: 5.739871730556802e+98\n",
      "Cost for iteration 45: 8.59125790413049e+100\n",
      "Cost for iteration 46: 1.2859122266156405e+103\n",
      "Cost for iteration 47: 1.9247126241718278e+105\n",
      "Cost for iteration 48: 2.8808487927642063e+107\n",
      "Cost for iteration 49: 4.311963075704373e+109\n",
      "Cost for iteration 50: 6.454009531127697e+111\n",
      "Cost for iteration 51: 9.660156707414012e+113\n",
      "Cost for iteration 52: 1.4459016083214643e+116\n",
      "Cost for iteration 53: 2.1641796549139543e+118\n",
      "Cost for iteration 54: 3.239275447089875e+120\n",
      "Cost for iteration 55: 4.8484447205176715e+122\n",
      "Cost for iteration 56: 7.2569982367613825e+124\n",
      "Cost for iteration 57: 1.0862044726527233e+127\n",
      "Cost for iteration 58: 1.6257963939334168e+129\n",
      "Cost for iteration 59: 2.43344046270741e+131\n",
      "Cost for iteration 60: 3.6422964816738086e+133\n",
      "Cost for iteration 61: 5.4516738189080285e+135\n",
      "Cost for iteration 62: 8.159892413291166e+137\n",
      "Cost for iteration 63: 1.2213468084894256e+140\n",
      "Cost for iteration 64: 1.8280731547116744e+142\n",
      "Cost for iteration 65: 2.736201900843163e+144\n",
      "Cost for iteration 66: 4.095460196918956e+146\n",
      "Cost for iteration 67: 6.129954890894163e+148\n",
      "Cost for iteration 68: 9.175122002813315e+150\n",
      "Cost for iteration 69: 1.3733031525494554e+153\n",
      "Cost for iteration 70: 2.0555165895603247e+155\n",
      "Cost for iteration 71: 3.0766320182939755e+157\n",
      "Cost for iteration 72: 4.6050051962929456e+159\n",
      "Cost for iteration 73: 6.892625680221598e+161\n",
      "Cost for iteration 74: 1.0316663443918513e+164\n",
      "Cost for iteration 75: 1.5441654538196653e+166\n",
      "Cost for iteration 76: 2.3112578613540805e+168\n",
      "Cost for iteration 77: 3.459417440311993e+170\n",
      "Cost for iteration 78: 5.177946271786146e+172\n",
      "Cost for iteration 79: 7.75018570499142e+174\n",
      "Cost for iteration 80: 1.1600232082194577e+177\n",
      "Cost for iteration 81: 1.736285935369406e+179\n",
      "Cost for iteration 82: 2.5988177029569247e+181\n",
      "Cost for iteration 83: 3.889827888149878e+183\n",
      "Cost for iteration 84: 5.822170974983283e+185\n",
      "Cost for iteration 85: 8.714440802176606e+187\n",
      "Cost for iteration 86: 1.3043498519872746e+190\n",
      "Cost for iteration 87: 1.9523094768792084e+192\n",
      "Cost for iteration 88: 2.9221548863636905e+194\n",
      "Cost for iteration 89: 4.373788726134176e+196\n",
      "Cost for iteration 90: 6.546548203221248e+198\n",
      "Cost for iteration 91: 9.798665655937917e+200\n",
      "Cost for iteration 92: 1.4666331883054538e+203\n",
      "Cost for iteration 93: 2.195210026107507e+205\n",
      "Cost for iteration 94: 3.285720722228254e+207\n",
      "Cost for iteration 95: 4.9179625348301086e+209\n",
      "Cost for iteration 96: 7.36105029571422e+211\n",
      "Cost for iteration 97: 1.1017786547230413e+214\n",
      "Cost for iteration 98: 1.64910733555249e+216\n",
      "Cost for iteration 99: 2.4683315405639798e+218\n",
      "Cost for iteration 100: 3.694520340061287e+220\n",
      "Cost for iteration 101: 5.529840833297399e+222\n",
      "Cost for iteration 102: 8.276890320516148e+224\n",
      "Cost for iteration 103: 1.238858684057345e+227\n",
      "Cost for iteration 104: 1.8542843744830334e+229\n",
      "Cost for iteration 105: 2.7754340230243557e+231\n",
      "Cost for iteration 106: 4.154181592728319e+233\n",
      "Cost for iteration 107: 6.217847213156876e+235\n",
      "Cost for iteration 108: 9.306676442319697e+237\n",
      "Cost for iteration 109: 1.3929938036874564e+240\n",
      "Cost for iteration 110: 2.0849889314815306e+242\n",
      "Cost for iteration 111: 3.1207452846472684e+244\n",
      "Cost for iteration 112: 4.6710325338407854e+246\n",
      "Cost for iteration 113: 6.991453304291429e+248\n",
      "Cost for iteration 114: 1.046458549623831e+251\n",
      "Cost for iteration 115: 1.566305957315975e+253\n",
      "Cost for iteration 116: 2.3443970645616145e+255\n",
      "Cost for iteration 117: 3.5090191483044653e+257\n",
      "Cost for iteration 118: 5.25218853465416e+259\n",
      "Cost for iteration 119: 7.861309168655229e+261\n",
      "Cost for iteration 120: 1.1766558157122988e+264\n",
      "Cost for iteration 121: 1.7611810945814936e+266\n",
      "Cost for iteration 122: 2.6360799874461105e+268\n",
      "Cost for iteration 123: 3.945600893396563e+270\n",
      "Cost for iteration 124: 5.905650239791905e+272\n",
      "Cost for iteration 125: 8.839389917293595e+274\n",
      "Cost for iteration 126: 1.3230518391266078e+277\n",
      "Cost for iteration 127: 1.9803020178933904e+279\n",
      "Cost for iteration 128: 2.9640532336672595e+281\n",
      "Cost for iteration 129: 4.4365008431185136e+283\n",
      "Cost for iteration 130: 6.640413710329755e+285\n",
      "Cost for iteration 131: 9.939160569017253e+287\n",
      "Cost for iteration 132: 1.4876620211634656e+290\n",
      "Cost for iteration 133: 2.226685315972305e+292\n",
      "Cost for iteration 134: 3.3328319375183407e+294\n",
      "Cost for iteration 135: 4.988477107234141e+296\n",
      "Cost for iteration 136: 7.466594270555574e+298\n",
      "Cost for iteration 137: 1.117576142030326e+301\n",
      "Cost for iteration 138: 1.6727525133657126e+303\n",
      "Cost for iteration 139: 2.5037228925520366e+305\n",
      "Cost for iteration 140: inf\n",
      "Cost for iteration 141: inf\n",
      "<ipython-input-5-1e76d3bed447>:8: RuntimeWarning: overflow encountered in matmul\n",
      "  J = np.sum(diff.T @ diff)/(2*m) #vectorised calculation\n",
      "<ipython-input-7-943c662060db>:6: RuntimeWarning: invalid value encountered in double_scalars\n",
      "  while abs(J_prev - J) > 0:\n"
     ]
    }
   ],
   "source": [
    "theta = update_coeff(gradient, hypothesis, theta, X, y, learning_rate = 0.0001)"
   ]
  }
 ]
}